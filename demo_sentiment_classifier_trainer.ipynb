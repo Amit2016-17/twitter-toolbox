{
  "cells": [
    {
      "cell_type": "markdown",
      "source": [
        "We will use a dataset of general tweets (double-check where it's from) for training, and a dataset of hand-labeled customer feedback to airlines for validation\n",
        "\n"
      ],
      "metadata": {}
    },
    {
      "cell_type": "markdown",
      "source": [
        "# TODO Update this\n",
        "\n",
        "This has only been trained on a small amount of the data. Training on all of the data takes ~30 hours."
      ],
      "metadata": {}
    },
    {
      "cell_type": "code",
      "source": [
        "import tweepy"
      ],
      "outputs": [],
      "execution_count": 11,
      "metadata": {}
    },
    {
      "cell_type": "code",
      "source": [
        "from twitter_nlp_toolkit.twitter_listener import twitter_listener"
      ],
      "outputs": [],
      "execution_count": 12,
      "metadata": {
        "collapsed": false,
        "jupyter": {
          "source_hidden": false,
          "outputs_hidden": false
        },
        "nteract": {
          "transient": {
            "deleting": false
          }
        }
      }
    },
    {
      "cell_type": "code",
      "source": [
        "consumer_key = \"CawRoWHuFDzS12iprfvANhatY\"\n",
        "consumer_secret = \"IXMJ75QNAYQfyyoOwTeJeFLei1uVymg2YsqGdojthbAcv54aI3\"\n",
        "access_token = \"826992578075648002-CrELY6bpnPoyyMqIBq2xm9myLiOChWH\"\n",
        "access_secret = \"3etfQ9nTTg46DlrxU4HnXD2PkETuRrNN4Un8KJVOMdkrD\""
      ],
      "outputs": [],
      "execution_count": 13,
      "metadata": {
        "collapsed": false,
        "jupyter": {
          "source_hidden": false,
          "outputs_hidden": false
        },
        "nteract": {
          "transient": {
            "deleting": false
          }
        }
      }
    },
    {
      "cell_type": "code",
      "source": [
        "stream1 = twitter_listener.twitter_stream_listener(consumer_key,consumer_secret,access_token,access_secret,[\"Trump\",\"Impeachment\"])"
      ],
      "outputs": [],
      "execution_count": 14,
      "metadata": {
        "collapsed": false,
        "jupyter": {
          "source_hidden": false,
          "outputs_hidden": false
        },
        "nteract": {
          "transient": {
            "deleting": false
          }
        }
      }
    },
    {
      "cell_type": "code",
      "source": [
        "stream1.collect_from_stream(100,\"test.json\",1)"
      ],
      "outputs": [
        {
          "output_type": "stream",
          "name": "stdout",
          "text": [
            "\n",
            "Initializing listener... \n"
          ]
        },
        {
          "output_type": "error",
          "ename": "AttributeError",
          "evalue": "'twitter_stream_listener' object has no attribute 'auth'",
          "traceback": [
            "\u001b[1;31m---------------------------------------------------------------------------\u001b[0m",
            "\u001b[1;31mAttributeError\u001b[0m                            Traceback (most recent call last)",
            "\u001b[1;32m<ipython-input-15-16e07b185160>\u001b[0m in \u001b[0;36m<module>\u001b[1;34m\u001b[0m\n\u001b[1;32m----> 1\u001b[1;33m \u001b[0mstream1\u001b[0m\u001b[1;33m.\u001b[0m\u001b[0mcollect_from_stream\u001b[0m\u001b[1;33m(\u001b[0m\u001b[1;36m100\u001b[0m\u001b[1;33m,\u001b[0m\u001b[1;34m\"test.json\"\u001b[0m\u001b[1;33m,\u001b[0m\u001b[1;36m1\u001b[0m\u001b[1;33m)\u001b[0m\u001b[1;33m\u001b[0m\u001b[1;33m\u001b[0m\u001b[0m\n\u001b[0m",
            "\u001b[1;32m~\\Desktop\\twitter-toolbox\\twitter_nlp_toolkit\\twitter_listener\\twitter_listener.py\u001b[0m in \u001b[0;36mcollect_from_stream\u001b[1;34m(self, max_tweets, output_json_name, console_interval)\u001b[0m\n\u001b[0;32m    186\u001b[0m     \u001b[1;32mdef\u001b[0m \u001b[0mcollect_from_stream\u001b[0m\u001b[1;33m(\u001b[0m\u001b[0mself\u001b[0m\u001b[1;33m,\u001b[0m \u001b[0mmax_tweets\u001b[0m\u001b[1;33m,\u001b[0m \u001b[0moutput_json_name\u001b[0m\u001b[1;33m,\u001b[0m \u001b[0mconsole_interval\u001b[0m\u001b[1;33m)\u001b[0m\u001b[1;33m:\u001b[0m\u001b[1;33m\u001b[0m\u001b[1;33m\u001b[0m\u001b[0m\n\u001b[0;32m    187\u001b[0m         \u001b[0mcurrent_listener\u001b[0m \u001b[1;33m=\u001b[0m \u001b[0minitialize_listener\u001b[0m\u001b[1;33m(\u001b[0m\u001b[0mmax_tweets\u001b[0m\u001b[1;33m,\u001b[0m \u001b[0moutput_json_name\u001b[0m\u001b[1;33m,\u001b[0m \u001b[0mconsole_interval\u001b[0m\u001b[1;33m)\u001b[0m\u001b[1;33m\u001b[0m\u001b[1;33m\u001b[0m\u001b[0m\n\u001b[1;32m--> 188\u001b[1;33m         \u001b[0mcollect_stream\u001b[0m\u001b[1;33m(\u001b[0m\u001b[0mcurrent_listener\u001b[0m\u001b[1;33m,\u001b[0m \u001b[0mself\u001b[0m\u001b[1;33m.\u001b[0m\u001b[0mauth\u001b[0m\u001b[1;33m,\u001b[0m\u001b[0mself\u001b[0m\u001b[1;33m.\u001b[0m\u001b[0mtarget_words\u001b[0m\u001b[1;33m)\u001b[0m\u001b[1;33m\u001b[0m\u001b[1;33m\u001b[0m\u001b[0m\n\u001b[0m\u001b[0;32m    189\u001b[0m \u001b[1;33m\u001b[0m\u001b[0m\n\u001b[0;32m    190\u001b[0m \u001b[1;33m\u001b[0m\u001b[0m\n",
            "\u001b[1;31mAttributeError\u001b[0m: 'twitter_stream_listener' object has no attribute 'auth'"
          ]
        }
      ],
      "execution_count": 15,
      "metadata": {
        "collapsed": false,
        "jupyter": {
          "source_hidden": false,
          "outputs_hidden": false
        },
        "nteract": {
          "transient": {
            "deleting": false
          }
        }
      }
    },
    {
      "cell_type": "code",
      "source": [],
      "outputs": [],
      "execution_count": null,
      "metadata": {
        "collapsed": false,
        "jupyter": {
          "source_hidden": false,
          "outputs_hidden": false
        },
        "nteract": {
          "transient": {
            "deleting": false
          }
        }
      }
    }
  ],
  "metadata": {
    "kernelspec": {
      "display_name": "Python 3",
      "language": "python",
      "name": "python3"
    },
    "language_info": {
      "name": "python",
      "version": "3.7.4",
      "mimetype": "text/x-python",
      "codemirror_mode": {
        "name": "ipython",
        "version": 3
      },
      "pygments_lexer": "ipython3",
      "nbconvert_exporter": "python",
      "file_extension": ".py"
    },
    "nteract": {
      "version": "0.21.0"
    }
  },
  "nbformat": 4,
  "nbformat_minor": 2
}