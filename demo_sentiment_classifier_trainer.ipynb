{
  "cells": [
    {
      "cell_type": "code",
      "source": [
        "import pickle as pkl\n",
        "import numpy as np\n",
        "import pandas as pd\n",
        "import sklearn\n",
        "from twitter_nlp_toolkit.twit_module import twit_module\n",
        "from twitter_nlp_toolkit.file_fetcher import file_fetcher\n",
        "from zipfile import ZipFile"
      ],
      "outputs": [
        {
          "output_type": "stream",
          "name": "stderr",
          "text": [
            "Using TensorFlow backend.\n"
          ]
        }
      ],
      "execution_count": 1,
      "metadata": {}
    },
    {
      "cell_type": "code",
      "source": [
        "chunk = 1 # Fraction of data to train on\n",
        "model_name = 'model_test_001'\n"
      ],
      "outputs": [],
      "execution_count": 2,
      "metadata": {}
    },
    {
      "cell_type": "markdown",
      "source": [
        "Here we download some training and validation data.\n",
        "\n",
        "The training data is the semi-supervised Sentiment140 dataset, taken form here: https://www.kaggle.com/kazanova/sentiment140\n",
        "\n",
        "The validation data is hand-labeled airline customer feedback taken from https://www.figure-eight.com/data-for-everyone/"
      ],
      "metadata": {}
    },
    {
      "cell_type": "code",
      "source": [
        "downloader = file_fetcher.downloader(using_notebook=True)"
      ],
      "outputs": [
        {
          "output_type": "stream",
          "name": "stdout",
          "text": [
            "downloader initialized\n"
          ]
        }
      ],
      "execution_count": 3,
      "metadata": {
        "jupyter": {
          "outputs_hidden": false,
          "source_hidden": false
        },
        "nteract": {
          "transient": {
            "deleting": false
          }
        }
      }
    },
    {
      "cell_type": "code",
      "source": [
        "# Validation data\n",
        "downloader.download_file('https://www.dropbox.com/s/440m6x07bjg6c0h/Tweets.zip?dl=1',\"Tweets.zip\")"
      ],
      "outputs": [
        {
          "output_type": "stream",
          "name": "stdout",
          "text": [
            "Downloading: 100% [1089469 / 1089469] bytes            \r\n"
          ]
        }
      ],
      "execution_count": 4,
      "metadata": {
        "jupyter": {
          "outputs_hidden": false,
          "source_hidden": false
        },
        "nteract": {
          "transient": {
            "deleting": false
          }
        }
      }
    },
    {
      "cell_type": "code",
      "source": [
        "# Compressed model\n",
        "# Note that this model has only been trained on 1% of the training data\n",
        "# Update when better-trained model is available\n",
        "downloader.download_file(\"https://www.dropbox.com/s/owpldku3kk7aaqj/model_test_001.zip?dl=1\",\"model_test_001.zip\")"
      ],
      "outputs": [
        {
          "output_type": "stream",
          "name": "stdout",
          "text": [
            "Downloading: 99% [931241984 / 933152569] bytes            \r\n"
          ]
        }
      ],
      "execution_count": 5,
      "metadata": {
        "jupyter": {
          "outputs_hidden": false,
          "source_hidden": false
        },
        "nteract": {
          "transient": {
            "deleting": false
          }
        }
      }
    },
    {
      "cell_type": "code",
      "source": [
        "#unzip the pickle file\n",
        "with ZipFile('model_test_001.zip', 'r') as zipObj:\n",
        "   # Extract all the contents of zip file in current directory\n",
        "   zipObj.extractall()"
      ],
      "outputs": [],
      "execution_count": 6,
      "metadata": {
        "jupyter": {
          "outputs_hidden": false,
          "source_hidden": false
        },
        "nteract": {
          "transient": {
            "deleting": false
          }
        }
      }
    },
    {
      "cell_type": "code",
      "source": [
        "test_data = pd.read_csv('Tweets.zip', header=0, names=['Index', 'Sentiment', 'Sentiment_confidence',\n",
        "                                                                'Negative_reason', 'Negative_reason_confidence',\n",
        "                                                                'Airline', 'Airline_sentiment_gold', 'Handle',\n",
        "                                                                'Negative_reason_gold', 'Retweet_count', 'Text',\n",
        "                                                                'Tweet_coord', 'Time', 'Location', 'Timezone'])"
      ],
      "outputs": [],
      "execution_count": 7,
      "metadata": {}
    },
    {
      "cell_type": "code",
      "source": [
        "test_data['Labels'] = (test_data['Sentiment'] == 'positive') * 2\n",
        "test_data['Labels'] = test_data['Labels'] + (test_data['Sentiment'] == 'neutral') * 1\n",
        "test_data['Labels'] = test_data['Labels'] / 2\n",
        "\n",
        "# Remove unlabeled test data\n",
        "test_data.set_index('Labels')\n",
        "test_data = test_data[test_data.Labels != 0.5]"
      ],
      "outputs": [],
      "execution_count": 8,
      "metadata": {}
    },
    {
      "cell_type": "code",
      "source": [
        "# Executing this cell takes about 20min on a laptop\n",
        "\n",
        "Classifier = twit_module.SentimentAnalyzer()\n",
        "Classifier.load_models(model_name)"
      ],
      "outputs": [
        {
          "output_type": "stream",
          "name": "stdout",
          "text": [
            "No BoW model found\n",
            "No LSTM model found\n",
            "No pre-trained embedding model found\n"
          ]
        }
      ],
      "execution_count": 9,
      "metadata": {}
    },
    {
      "cell_type": "code",
      "source": [
        "test_data['Labels'] = (test_data['Sentiment'] == 'positive') * 2\n",
        "\n",
        "print(\"Test Accuracy: %.3f\" % sklearn.metrics.accuracy_score(test_data['Labels']/2, Classifier.predict(test_data['Text']).reshape(-1)))"
      ],
      "outputs": [
        {
          "output_type": "stream",
          "name": "stdout",
          "text": [
            "Test Accuracy: 0.685\n"
          ]
        }
      ],
      "execution_count": 11,
      "metadata": {}
    },
    {
      "cell_type": "code",
      "source": [
        "Classifier.predict(['I am happy', 'I am sad', 'I am cheerful', 'I am mad'])"
      ],
      "outputs": [
        {
          "output_type": "execute_result",
          "execution_count": 12,
          "data": {
            "text/plain": [
              "array([1., 0., 1., 1.])"
            ]
          },
          "metadata": {}
        }
      ],
      "execution_count": 12,
      "metadata": {}
    },
    {
      "cell_type": "code",
      "source": [],
      "outputs": [],
      "execution_count": null,
      "metadata": {}
    }
  ],
  "metadata": {
    "kernelspec": {
      "display_name": "Python 3",
      "language": "python",
      "name": "python3"
    },
    "language_info": {
      "name": "python",
      "version": "3.7.4",
      "mimetype": "text/x-python",
      "codemirror_mode": {
        "name": "ipython",
        "version": 3
      },
      "pygments_lexer": "ipython3",
      "nbconvert_exporter": "python",
      "file_extension": ".py"
    },
    "nteract": {
      "version": "0.21.0"
    }
  },
  "nbformat": 4,
  "nbformat_minor": 2
}