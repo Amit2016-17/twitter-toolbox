{
  "cells": [
    {
      "cell_type": "code",
      "source": [
        "import json\n",
        "\n",
        "from twitter_nlp_toolkit.twitter_listener import twitter_listener\n",
        "from twitter_nlp_toolkit.tweet_json_parser import tweet_json_parser"
      ],
      "outputs": [],
      "execution_count": 1,
      "metadata": {
        "execution": {
          "iopub.status.busy": "2020-04-30T22:18:19.512Z",
          "iopub.execute_input": "2020-04-30T22:18:19.516Z",
          "shell.execute_reply": "2020-04-30T22:18:19.912Z",
          "iopub.status.idle": "2020-04-30T22:18:19.918Z"
        }
      }
    },
    {
      "cell_type": "markdown",
      "source": [
        "This will need to contain a \"consumer_key\", \"consumer_secret\", \"access_token\", and \"access_secret\"\n",
        "\n",
        "You can get these by wigning up for a free Twitter dev account at https://developer.twitter.com/en/apply-for-access"
      ],
      "metadata": {}
    },
    {
      "cell_type": "code",
      "source": [
        "with open('keys.key', 'r') as infile:\n",
        "    credentials = json.load(infile)\n",
        "\n"
      ],
      "outputs": [],
      "execution_count": 2,
      "metadata": {
        "execution": {
          "iopub.status.busy": "2020-04-30T22:18:23.047Z",
          "iopub.execute_input": "2020-04-30T22:18:23.050Z",
          "iopub.status.idle": "2020-04-30T22:18:23.057Z",
          "shell.execute_reply": "2020-04-30T22:18:23.061Z"
        }
      }
    },
    {
      "cell_type": "code",
      "source": [
        "stream1 = twitter_listener.TwitterStreamListener(**credentials)"
      ],
      "outputs": [],
      "execution_count": 3,
      "metadata": {
        "jupyter": {
          "outputs_hidden": false,
          "source_hidden": false
        },
        "nteract": {
          "transient": {
            "deleting": false
          }
        },
        "execution": {
          "iopub.status.busy": "2020-04-30T22:18:24.010Z",
          "iopub.execute_input": "2020-04-30T22:18:24.013Z",
          "iopub.status.idle": "2020-04-30T22:18:24.021Z",
          "shell.execute_reply": "2020-04-30T22:18:24.026Z"
        }
      }
    },
    {
      "cell_type": "code",
      "source": [
        "# This monitors Twitter in real time and caches appends all incoming tweets \n",
        "# containing one of the sets of target words to disk\n",
        "\n",
        "stream1.collect_from_stream(max_tweets=10,output_json_name=\"ai_tweets.json\",console_interval=2,target_words=[\"AI\"])"
      ],
      "outputs": [
        {
          "output_type": "stream",
          "name": "stdout",
          "text": [
            "\n",
            "Initializing listener... \n",
            "\n",
            "Connecting listener to stream...\n",
            "\n",
            "\tStreaming now...\n",
            "\t0 tweets collected...\r"
          ]
        }
      ],
      "execution_count": 4,
      "metadata": {
        "jupyter": {
          "outputs_hidden": false,
          "source_hidden": false
        },
        "nteract": {
          "transient": {
            "deleting": false
          }
        },
        "execution": {
          "iopub.status.busy": "2020-04-30T22:18:29.351Z",
          "iopub.execute_input": "2020-04-30T22:18:29.355Z"
        }
      }
    },
    {
      "cell_type": "markdown",
      "source": [
        "These tweets are now saved in json form to nlp_tweets.json"
      ],
      "metadata": {}
    },
    {
      "cell_type": "code",
      "source": [
        "parser = tweet_json_parser.json_parser()"
      ],
      "outputs": [],
      "execution_count": 5,
      "metadata": {
        "jupyter": {
          "outputs_hidden": false,
          "source_hidden": false
        },
        "nteract": {
          "transient": {
            "deleting": false
          }
        }
      }
    },
    {
      "cell_type": "code",
      "source": [
        "parser.stream_json_file(json_file_name=\"ai_tweets.json\",output_file_name=\"parsed_ai_tweets.csv\",verbose=True)"
      ],
      "outputs": [
        {
          "output_type": "stream",
          "name": "stdout",
          "text": [
            "Initalizing Output File:  parsed_ai_tweets.csv\n",
            "Generating Header Row\n",
            " \n",
            " Parsing Complete:    9 Tweets Parsed \n"
          ]
        }
      ],
      "execution_count": 6,
      "metadata": {
        "jupyter": {
          "outputs_hidden": false,
          "source_hidden": false
        },
        "nteract": {
          "transient": {
            "deleting": false
          }
        }
      }
    },
    {
      "cell_type": "markdown",
      "source": [
        "These tweets are now saved in csv form to nlp_tweets.csv!"
      ],
      "metadata": {
        "jupyter": {
          "outputs_hidden": false,
          "source_hidden": false
        },
        "nteract": {
          "transient": {
            "deleting": false
          }
        }
      }
    },
    {
      "cell_type": "code",
      "source": [],
      "outputs": [],
      "execution_count": null,
      "metadata": {}
    }
  ],
  "metadata": {
    "kernelspec": {
      "display_name": "Python 3",
      "language": "python",
      "name": "python3"
    },
    "language_info": {
      "name": "python",
      "version": "3.7.4",
      "mimetype": "text/x-python",
      "codemirror_mode": {
        "name": "ipython",
        "version": 3
      },
      "pygments_lexer": "ipython3",
      "nbconvert_exporter": "python",
      "file_extension": ".py"
    },
    "nteract": {
      "version": "0.23.1"
    }
  },
  "nbformat": 4,
  "nbformat_minor": 2
}