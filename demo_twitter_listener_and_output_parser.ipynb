{
 "cells": [
  {
   "cell_type": "code",
   "execution_count": 1,
   "metadata": {},
   "outputs": [],
   "source": [
    "import json\n",
    "\n",
    "from twitter_nlp_toolkit.twitter_listener import twitter_listener\n",
    "from twitter_nlp_toolkit.tweet_json_parser import tweet_json_parser"
   ]
  },
  {
   "cell_type": "markdown",
   "metadata": {},
   "source": [
    "This will need to contain a \"consumer_key\", \"consumer_secret\", \"access_token\", and \"access_secret\"\n",
    "\n",
    "You can get these by wigning up for a free Twitter dev account at https://developer.twitter.com/en/apply-for-access"
   ]
  },
  {
   "cell_type": "code",
   "execution_count": 2,
   "metadata": {},
   "outputs": [],
   "source": [
    "with open('keys.key', 'r') as infile:\n",
    "    credentials = json.load(infile)\n",
    "\n"
   ]
  },
  {
   "cell_type": "code",
   "execution_count": 3,
   "metadata": {
    "jupyter": {
     "outputs_hidden": false,
     "source_hidden": false
    },
    "nteract": {
     "transient": {
      "deleting": false
     }
    }
   },
   "outputs": [],
   "source": [
    "stream1 = twitter_listener.TwitterStreamListener(**credentials)"
   ]
  },
  {
   "cell_type": "code",
   "execution_count": 4,
   "metadata": {
    "jupyter": {
     "outputs_hidden": false,
     "source_hidden": false
    },
    "nteract": {
     "transient": {
      "deleting": false
     }
    }
   },
   "outputs": [
    {
     "name": "stdout",
     "output_type": "stream",
     "text": [
      "\n",
      "Initializing listener... \n",
      "\n",
      "Connecting listener to stream...\n",
      "\n",
      "\tStreaming now...\n",
      "Tweet Limit Reached: (10) .... Closing Stream \n"
     ]
    }
   ],
   "source": [
    "stream1.collect_from_stream(max_tweets=10,output_json_name=\"ai_tweets.json\",console_interval=1,target_words=[\"AI\"])"
   ]
  },
  {
   "cell_type": "markdown",
   "metadata": {},
   "source": [
    "These tweets are now saved in json form to nlp_tweets.json"
   ]
  },
  {
   "cell_type": "code",
   "execution_count": 5,
   "metadata": {
    "jupyter": {
     "outputs_hidden": false,
     "source_hidden": false
    },
    "nteract": {
     "transient": {
      "deleting": false
     }
    }
   },
   "outputs": [],
   "source": [
    "parser = tweet_json_parser.json_parser()"
   ]
  },
  {
   "cell_type": "code",
   "execution_count": 6,
   "metadata": {
    "jupyter": {
     "outputs_hidden": false,
     "source_hidden": false
    },
    "nteract": {
     "transient": {
      "deleting": false
     }
    }
   },
   "outputs": [
    {
     "name": "stdout",
     "output_type": "stream",
     "text": [
      "Initalizing Output File:  parsed_ai_tweets.csv\n",
      "Generating Header Row\n",
      " \n",
      " Parsing Complete:    9 Tweets Parsed \n"
     ]
    }
   ],
   "source": [
    "parser.stream_json_file(json_file_name=\"ai_tweets.json\",output_file_name=\"parsed_ai_tweets.csv\",verbose=True)"
   ]
  },
  {
   "cell_type": "markdown",
   "metadata": {
    "jupyter": {
     "outputs_hidden": false,
     "source_hidden": false
    },
    "nteract": {
     "transient": {
      "deleting": false
     }
    }
   },
   "source": [
    "These tweets are now saved in csv form to nlp_tweets.csv!"
   ]
  },
  {
   "cell_type": "code",
   "execution_count": null,
   "metadata": {},
   "outputs": [],
   "source": []
  }
 ],
 "metadata": {
  "kernelspec": {
   "display_name": "Python 3",
   "language": "python",
   "name": "python3"
  },
  "language_info": {
   "codemirror_mode": {
    "name": "ipython",
    "version": 3
   },
   "file_extension": ".py",
   "mimetype": "text/x-python",
   "name": "python",
   "nbconvert_exporter": "python",
   "pygments_lexer": "ipython3",
   "version": "3.7.4"
  },
  "nteract": {
   "version": "0.21.0"
  }
 },
 "nbformat": 4,
 "nbformat_minor": 2
}
