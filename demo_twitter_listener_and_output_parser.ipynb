{
  "cells": [
    {
      "cell_type": "code",
      "source": [
        "from twitter_nlp_toolkit.twitter_listener import twitter_listener"
      ],
      "outputs": [],
      "execution_count": 8,
      "metadata": {}
    },
    {
      "cell_type": "code",
      "source": [
        "from twitter_nlp_toolkit.tweet_json_parser import tweet_json_parser"
      ],
      "outputs": [],
      "execution_count": 9,
      "metadata": {
        "collapsed": false,
        "jupyter": {
          "source_hidden": false,
          "outputs_hidden": false
        },
        "nteract": {
          "transient": {
            "deleting": false
          }
        }
      }
    },
    {
      "cell_type": "markdown",
      "source": [
        "We will use a dataset of general tweets (double-check where it's from) for training, and a dataset of hand-labeled customer feedback to airlines for validation\n",
        "\n"
      ],
      "metadata": {}
    },
    {
      "cell_type": "code",
      "source": [
        "consumer_key = \"CawRoWHuFDzS12iprfvANhatY\"\n",
        "consumer_secret = \"IXMJ75QNAYQfyyoOwTeJeFLei1uVymg2YsqGdojthbAcv54aI3\"\n",
        "access_token = \"826992578075648002-CrELY6bpnPoyyMqIBq2xm9myLiOChWH\"\n",
        "access_secret = \"3etfQ9nTTg46DlrxU4HnXD2PkETuRrNN4Un8KJVOMdkrD\""
      ],
      "outputs": [],
      "execution_count": 10,
      "metadata": {}
    },
    {
      "cell_type": "code",
      "source": [
        "stream1 = twitter_listener.stream_listener(consumer_key,consumer_secret,access_token,access_secret)"
      ],
      "outputs": [],
      "execution_count": 11,
      "metadata": {
        "collapsed": false,
        "jupyter": {
          "source_hidden": false,
          "outputs_hidden": false
        },
        "nteract": {
          "transient": {
            "deleting": false
          }
        }
      }
    },
    {
      "cell_type": "code",
      "source": [
        "stream1.collect_from_stream(max_tweets=100,output_json_name=\"test.json\",console_interval=1,target_words=[\"trump\",\"impeachment\"])"
      ],
      "outputs": [
        {
          "output_type": "stream",
          "name": "stdout",
          "text": [
            "\n",
            "Initializing listener... \n",
            "\n",
            "Connecting listener to stream...\n",
            "\n",
            "\tStreaming now...\n",
            "\t0 tweets collected...\n",
            "\t1 tweets collected...\n",
            "\t2 tweets collected...\n",
            "\t3 tweets collected...\n",
            "\t4 tweets collected...\n",
            "\t5 tweets collected...\n",
            "\t6 tweets collected...\n",
            "\t7 tweets collected...\n",
            "\t8 tweets collected...\n",
            "\t9 tweets collected...\n",
            "\t10 tweets collected...\n",
            "\t11 tweets collected...\n",
            "\t12 tweets collected...\n",
            "\t13 tweets collected...\n",
            "\t14 tweets collected...\n",
            "\t15 tweets collected...\n",
            "\t16 tweets collected...\n",
            "\t17 tweets collected...\n",
            "\t18 tweets collected...\n",
            "\t19 tweets collected...\n",
            "\t20 tweets collected...\n",
            "\t21 tweets collected...\n",
            "\t22 tweets collected...\n",
            "\t23 tweets collected...\n",
            "\t24 tweets collected...\n",
            "\t25 tweets collected...\n",
            "\t26 tweets collected...\n",
            "\t27 tweets collected...\n",
            "\t28 tweets collected...\n",
            "\t29 tweets collected...\n",
            "\t30 tweets collected...\n",
            "\t31 tweets collected...\n",
            "\t32 tweets collected...\n",
            "\t33 tweets collected...\n",
            "\t34 tweets collected...\n",
            "\t35 tweets collected...\n",
            "\t36 tweets collected...\n",
            "\t37 tweets collected...\n",
            "\t38 tweets collected...\n",
            "\t39 tweets collected...\n",
            "\t40 tweets collected...\n",
            "\t41 tweets collected...\n",
            "\t42 tweets collected...\n",
            "\t43 tweets collected...\n",
            "\t44 tweets collected...\n",
            "\t45 tweets collected...\n",
            "\t46 tweets collected...\n",
            "\t47 tweets collected...\n",
            "\t48 tweets collected...\n",
            "\t49 tweets collected...\n",
            "\t50 tweets collected...\n",
            "\t51 tweets collected...\n",
            "\t52 tweets collected...\n",
            "\t53 tweets collected...\n",
            "\t54 tweets collected...\n",
            "\t55 tweets collected...\n",
            "\t56 tweets collected...\n",
            "\t57 tweets collected...\n",
            "\t58 tweets collected...\n",
            "\t59 tweets collected...\n",
            "\t60 tweets collected...\n",
            "\t61 tweets collected...\n",
            "\t62 tweets collected...\n",
            "\t63 tweets collected...\n",
            "\t64 tweets collected...\n",
            "\t65 tweets collected...\n",
            "\t66 tweets collected...\n",
            "\t67 tweets collected...\n",
            "\t68 tweets collected...\n",
            "\t69 tweets collected...\n",
            "\t70 tweets collected...\n",
            "\t71 tweets collected...\n",
            "\t72 tweets collected...\n",
            "\t73 tweets collected...\n",
            "\t74 tweets collected...\n",
            "\t75 tweets collected...\n",
            "\t76 tweets collected...\n",
            "\t77 tweets collected...\n",
            "\t78 tweets collected...\n",
            "\t79 tweets collected...\n",
            "\t80 tweets collected...\n",
            "\t81 tweets collected...\n",
            "\t82 tweets collected...\n",
            "\t83 tweets collected...\n",
            "\t84 tweets collected...\n",
            "\t85 tweets collected...\n",
            "\t86 tweets collected...\n",
            "\t87 tweets collected...\n",
            "\t88 tweets collected...\n",
            "\t89 tweets collected...\n",
            "\t90 tweets collected...\n",
            "\t91 tweets collected...\n",
            "\t92 tweets collected...\n",
            "\t93 tweets collected...\n",
            "\t94 tweets collected...\n",
            "\t95 tweets collected...\n",
            "\t96 tweets collected...\n",
            "\t97 tweets collected...\n",
            "\t98 tweets collected...\n",
            "\t99 tweets collected...\n",
            "Tweet Limit Reached: (100) .... Closing Stream \n"
          ]
        }
      ],
      "execution_count": 13,
      "metadata": {
        "collapsed": false,
        "jupyter": {
          "source_hidden": false,
          "outputs_hidden": false
        },
        "nteract": {
          "transient": {
            "deleting": false
          }
        }
      }
    },
    {
      "cell_type": "code",
      "source": [
        "parser = tweet_json_parser.json_parser()"
      ],
      "outputs": [],
      "execution_count": 14,
      "metadata": {
        "collapsed": false,
        "jupyter": {
          "source_hidden": false,
          "outputs_hidden": false
        },
        "nteract": {
          "transient": {
            "deleting": false
          }
        }
      }
    },
    {
      "cell_type": "code",
      "source": [
        "parser.stream_json_file(json_file_name=\"test.json\",output_file_name=\"parsed_tweets.csv\",verbose=True)"
      ],
      "outputs": [
        {
          "output_type": "stream",
          "name": "stdout",
          "text": [
            "Initalizing Output File:  parsed_tweets.csv\n",
            "Generating Header Row\n",
            " \n",
            " Parsing Complete:    297 Tweets Parsed \n"
          ]
        }
      ],
      "execution_count": 15,
      "metadata": {
        "collapsed": false,
        "jupyter": {
          "source_hidden": false,
          "outputs_hidden": false
        },
        "nteract": {
          "transient": {
            "deleting": false
          }
        }
      }
    },
    {
      "cell_type": "code",
      "source": [],
      "outputs": [],
      "execution_count": null,
      "metadata": {
        "collapsed": false,
        "jupyter": {
          "source_hidden": false,
          "outputs_hidden": false
        },
        "nteract": {
          "transient": {
            "deleting": false
          }
        }
      }
    }
  ],
  "metadata": {
    "kernelspec": {
      "display_name": "Python 3",
      "language": "python",
      "name": "python3"
    },
    "language_info": {
      "name": "python",
      "version": "3.7.4",
      "mimetype": "text/x-python",
      "codemirror_mode": {
        "name": "ipython",
        "version": 3
      },
      "pygments_lexer": "ipython3",
      "nbconvert_exporter": "python",
      "file_extension": ".py"
    },
    "nteract": {
      "version": "0.21.0"
    }
  },
  "nbformat": 4,
  "nbformat_minor": 2
}