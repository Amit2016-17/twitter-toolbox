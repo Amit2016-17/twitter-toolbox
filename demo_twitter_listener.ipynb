{
  "cells": [
    {
      "cell_type": "code",
      "source": [
        "import json\n",
        "\n",
        "from twitter_nlp_toolkit.twitter_listener import twitter_listener"
      ],
      "outputs": [],
      "execution_count": 2,
      "metadata": {
        "execution": {
          "iopub.status.busy": "2020-04-10T20:24:57.257Z",
          "iopub.execute_input": "2020-04-10T20:24:57.265Z",
          "iopub.status.idle": "2020-04-10T20:24:57.417Z",
          "shell.execute_reply": "2020-04-10T20:24:57.406Z"
        }
      }
    },
    {
      "cell_type": "code",
      "source": [
        "with open('keys.key', 'r') as infile:\n",
        "    credentials = json.load(infile)"
      ],
      "outputs": [],
      "execution_count": 3,
      "metadata": {
        "execution": {
          "iopub.status.busy": "2020-04-10T20:24:58.079Z",
          "iopub.execute_input": "2020-04-10T20:24:58.086Z",
          "iopub.status.idle": "2020-04-10T20:24:58.095Z",
          "shell.execute_reply": "2020-04-10T20:24:58.098Z"
        }
      }
    },
    {
      "cell_type": "code",
      "source": [
        "stream1 = twitter_listener.TwitterStreamListener(**credentials)"
      ],
      "outputs": [],
      "execution_count": 4,
      "metadata": {
        "jupyter": {
          "outputs_hidden": false,
          "source_hidden": false
        },
        "nteract": {
          "transient": {
            "deleting": false
          }
        },
        "execution": {
          "iopub.status.busy": "2020-04-10T20:24:58.821Z",
          "iopub.execute_input": "2020-04-10T20:24:58.829Z",
          "iopub.status.idle": "2020-04-10T20:24:58.839Z",
          "shell.execute_reply": "2020-04-10T20:24:58.841Z"
        }
      }
    },
    {
      "cell_type": "code",
      "source": [
        "stream1.collect_from_stream(max_tweets=10000,output_json_name=\"test.json\",console_interval=1,target_words=[\"is\"])"
      ],
      "outputs": [
        {
          "output_type": "stream",
          "name": "stdout",
          "text": [
            "\n",
            "Initializing listener... \n",
            "\n",
            "Connecting listener to stream...\n",
            "\n",
            "\tStreaming now...\n",
            "Tweet Limit Reached: (10000) .... Closing Stream \n"
          ]
        }
      ],
      "execution_count": 5,
      "metadata": {
        "jupyter": {
          "outputs_hidden": false,
          "source_hidden": false
        },
        "nteract": {
          "transient": {
            "deleting": false
          }
        },
        "execution": {
          "iopub.status.busy": "2020-04-10T20:25:00.594Z",
          "iopub.execute_input": "2020-04-10T20:25:00.601Z",
          "iopub.status.idle": "2020-04-10T20:28:16.860Z",
          "shell.execute_reply": "2020-04-10T20:28:16.870Z"
        }
      }
    },
    {
      "cell_type": "code",
      "source": [
        "credentials = {}\n",
        "credentials['consumer_key'] = \"JJhWt2xXOYhXTQPHxfaS2JXjV\"\n",
        "credentials['consumer_secret'] = \"2n9qfvVNpCHermKtRnV6rXzOy0ifMIsgVbpjYWO3LSKxScFW4l\"\n",
        "credentials['access_token'] = \"826992578075648002-U91wuQGF8EvGAeR4ZPGc2HsXxxPL6WF\"\n",
        "credentials['access_secret'] = \"lc4hmNdhEun7EFhxbNkSH8zF0CKsWoLgjUapAuYoyzUNG\""
      ],
      "outputs": [],
      "execution_count": 6,
      "metadata": {
        "jupyter": {
          "outputs_hidden": false,
          "source_hidden": false
        },
        "nteract": {
          "transient": {
            "deleting": false
          }
        }
      }
    },
    {
      "cell_type": "code",
      "source": [
        "with open('keys.key', 'w+') as outfile:\n",
        "    json.dump(credentials, outfile)"
      ],
      "outputs": [],
      "execution_count": 12,
      "metadata": {}
    },
    {
      "cell_type": "code",
      "source": [
        "print(str(*credentials))"
      ],
      "outputs": [
        {
          "output_type": "error",
          "ename": "TypeError",
          "evalue": "str() takes at most 3 arguments (4 given)",
          "traceback": [
            "\u001b[1;31m---------------------------------------------------------------------------\u001b[0m",
            "\u001b[1;31mTypeError\u001b[0m                                 Traceback (most recent call last)",
            "\u001b[1;32m<ipython-input-21-7db36c2a3c36>\u001b[0m in \u001b[0;36m<module>\u001b[1;34m\u001b[0m\n\u001b[1;32m----> 1\u001b[1;33m \u001b[0mprint\u001b[0m\u001b[1;33m(\u001b[0m\u001b[0mstr\u001b[0m\u001b[1;33m(\u001b[0m\u001b[1;33m*\u001b[0m\u001b[0mcredentials\u001b[0m\u001b[1;33m)\u001b[0m\u001b[1;33m)\u001b[0m\u001b[1;33m\u001b[0m\u001b[1;33m\u001b[0m\u001b[0m\n\u001b[0m",
            "\u001b[1;31mTypeError\u001b[0m: str() takes at most 3 arguments (4 given)"
          ]
        }
      ],
      "execution_count": 21,
      "metadata": {}
    },
    {
      "cell_type": "code",
      "source": [
        "?stream1.collect_from_stream"
      ],
      "outputs": [],
      "execution_count": 26,
      "metadata": {}
    },
    {
      "cell_type": "code",
      "source": [],
      "outputs": [],
      "execution_count": null,
      "metadata": {}
    }
  ],
  "metadata": {
    "kernelspec": {
      "display_name": "Python 3",
      "language": "python",
      "name": "python3"
    },
    "language_info": {
      "name": "python",
      "version": "3.7.4",
      "mimetype": "text/x-python",
      "codemirror_mode": {
        "name": "ipython",
        "version": 3
      },
      "pygments_lexer": "ipython3",
      "nbconvert_exporter": "python",
      "file_extension": ".py"
    },
    "nteract": {
      "version": "0.22.4"
    }
  },
  "nbformat": 4,
  "nbformat_minor": 2
}