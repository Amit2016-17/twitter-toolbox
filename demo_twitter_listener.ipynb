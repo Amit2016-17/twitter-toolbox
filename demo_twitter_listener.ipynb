{
  "cells": [
    {
      "cell_type": "code",
      "source": [
        "from twitter_nlp_toolkit.twitter_listener import twitter_listener"
      ],
      "outputs": [],
      "execution_count": 1,
      "metadata": {}
    },
    {
      "cell_type": "markdown",
      "source": [
        "We will use a dataset of general tweets (double-check where it's from) for training, and a dataset of hand-labeled customer feedback to airlines for validation\n",
        "\n"
      ],
      "metadata": {}
    },
    {
      "cell_type": "code",
      "source": [
        "consumer_key = \"CawRoWHuFDzS12iprfvANhatY\"\n",
        "consumer_secret = \"IXMJ75QNAYQfyyoOwTeJeFLei1uVymg2YsqGdojthbAcv54aI3\"\n",
        "access_token = \"826992578075648002-CrELY6bpnPoyyMqIBq2xm9myLiOChWH\"\n",
        "access_secret = \"3etfQ9nTTg46DlrxU4HnXD2PkETuRrNN4Un8KJVOMdkrD\""
      ],
      "outputs": [],
      "execution_count": 2,
      "metadata": {}
    },
    {
      "cell_type": "code",
      "source": [
        "stream1 = twitter_listener.stream_listener(consumer_key,consumer_secret,access_token,access_secret)"
      ],
      "outputs": [],
      "execution_count": 3,
      "metadata": {
        "collapsed": false,
        "jupyter": {
          "source_hidden": false,
          "outputs_hidden": false
        },
        "nteract": {
          "transient": {
            "deleting": false
          }
        }
      }
    },
    {
      "cell_type": "code",
      "source": [
        "stream1.collect_from_stream(max_tweets=100,output_json_name=\"test.json\",console_interval=1,target_words=[\"trump\",\"impeachment\"])"
      ],
      "outputs": [
        {
          "output_type": "stream",
          "name": "stdout",
          "text": [
            "\n",
            "Initializing listener... \n",
            "\n",
            "Connecting listener to stream...\n",
            "\n",
            "\tStreaming now...\n",
            "(0) Tweets Collected So far\n",
            "(1) Tweets Collected So far\n",
            "(2) Tweets Collected So far\n",
            "(3) Tweets Collected So far\n",
            "(4) Tweets Collected So far\n",
            "(5) Tweets Collected So far\n",
            "(6) Tweets Collected So far\n",
            "(7) Tweets Collected So far\n",
            "(8) Tweets Collected So far\n",
            "(9) Tweets Collected So far\n",
            "(10) Tweets Collected So far\n",
            "(11) Tweets Collected So far\n",
            "(12) Tweets Collected So far\n",
            "(13) Tweets Collected So far\n",
            "(14) Tweets Collected So far\n",
            "(15) Tweets Collected So far\n",
            "(16) Tweets Collected So far\n",
            "(17) Tweets Collected So far\n",
            "(18) Tweets Collected So far\n",
            "(19) Tweets Collected So far\n",
            "(20) Tweets Collected So far\n",
            "(21) Tweets Collected So far\n",
            "(22) Tweets Collected So far\n",
            "(23) Tweets Collected So far\n",
            "(24) Tweets Collected So far\n",
            "(25) Tweets Collected So far\n",
            "(26) Tweets Collected So far\n",
            "(27) Tweets Collected So far\n",
            "(28) Tweets Collected So far\n",
            "(29) Tweets Collected So far\n",
            "(30) Tweets Collected So far\n",
            "(31) Tweets Collected So far\n",
            "(32) Tweets Collected So far\n",
            "(33) Tweets Collected So far\n",
            "(34) Tweets Collected So far\n",
            "(35) Tweets Collected So far\n",
            "(36) Tweets Collected So far\n",
            "(37) Tweets Collected So far\n",
            "(38) Tweets Collected So far\n",
            "(39) Tweets Collected So far\n",
            "(40) Tweets Collected So far\n",
            "(41) Tweets Collected So far\n",
            "(42) Tweets Collected So far\n",
            "(43) Tweets Collected So far\n",
            "(44) Tweets Collected So far\n",
            "(45) Tweets Collected So far\n",
            "(46) Tweets Collected So far\n",
            "(47) Tweets Collected So far\n",
            "(48) Tweets Collected So far\n",
            "(49) Tweets Collected So far\n",
            "(50) Tweets Collected So far\n",
            "(51) Tweets Collected So far\n",
            "(52) Tweets Collected So far\n",
            "(53) Tweets Collected So far\n",
            "(54) Tweets Collected So far\n",
            "(55) Tweets Collected So far\n",
            "(56) Tweets Collected So far\n",
            "(57) Tweets Collected So far\n",
            "(58) Tweets Collected So far\n",
            "(59) Tweets Collected So far\n",
            "(60) Tweets Collected So far\n",
            "(61) Tweets Collected So far\n",
            "(62) Tweets Collected So far\n",
            "(63) Tweets Collected So far\n",
            "(64) Tweets Collected So far\n",
            "(65) Tweets Collected So far\n",
            "(66) Tweets Collected So far\n",
            "(67) Tweets Collected So far\n",
            "(68) Tweets Collected So far\n",
            "(69) Tweets Collected So far\n",
            "(70) Tweets Collected So far\n",
            "(71) Tweets Collected So far\n",
            "(72) Tweets Collected So far\n",
            "(73) Tweets Collected So far\n",
            "(74) Tweets Collected So far\n",
            "(75) Tweets Collected So far\n",
            "(76) Tweets Collected So far\n",
            "(77) Tweets Collected So far\n",
            "(78) Tweets Collected So far\n",
            "(79) Tweets Collected So far\n",
            "(80) Tweets Collected So far\n",
            "(81) Tweets Collected So far\n",
            "(82) Tweets Collected So far\n",
            "(83) Tweets Collected So far\n",
            "(84) Tweets Collected So far\n",
            "(85) Tweets Collected So far\n",
            "(86) Tweets Collected So far\n",
            "(87) Tweets Collected So far\n",
            "(88) Tweets Collected So far\n",
            "(89) Tweets Collected So far\n",
            "(90) Tweets Collected So far\n",
            "(91) Tweets Collected So far\n",
            "(92) Tweets Collected So far\n",
            "(93) Tweets Collected So far\n",
            "(94) Tweets Collected So far\n",
            "(95) Tweets Collected So far\n",
            "(96) Tweets Collected So far\n",
            "(97) Tweets Collected So far\n",
            "(98) Tweets Collected So far\n",
            "(99) Tweets Collected So far\n",
            "Tweet Limit Reached: (100) .... Closing Stream \n"
          ]
        }
      ],
      "execution_count": 4,
      "metadata": {
        "collapsed": false,
        "jupyter": {
          "source_hidden": false,
          "outputs_hidden": false
        },
        "nteract": {
          "transient": {
            "deleting": false
          }
        }
      }
    },
    {
      "cell_type": "code",
      "source": [],
      "outputs": [],
      "execution_count": null,
      "metadata": {
        "collapsed": false,
        "jupyter": {
          "source_hidden": false,
          "outputs_hidden": false
        },
        "nteract": {
          "transient": {
            "deleting": false
          }
        }
      }
    }
  ],
  "metadata": {
    "kernelspec": {
      "display_name": "Python 3",
      "language": "python",
      "name": "python3"
    },
    "language_info": {
      "name": "python",
      "version": "3.7.4",
      "mimetype": "text/x-python",
      "codemirror_mode": {
        "name": "ipython",
        "version": 3
      },
      "pygments_lexer": "ipython3",
      "nbconvert_exporter": "python",
      "file_extension": ".py"
    },
    "nteract": {
      "version": "0.21.0"
    }
  },
  "nbformat": 4,
  "nbformat_minor": 2
}