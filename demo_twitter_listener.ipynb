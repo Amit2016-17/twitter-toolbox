{
 "cells": [
  {
   "cell_type": "code",
   "execution_count": 10,
   "metadata": {},
   "outputs": [],
   "source": [
    "import json\n",
    "\n",
    "from twitter_nlp_toolkit.twitter_listener import twitter_listener"
   ]
  },
  {
   "cell_type": "code",
   "execution_count": null,
   "metadata": {},
   "outputs": [],
   "source": []
  },
  {
   "cell_type": "markdown",
   "metadata": {},
   "source": [
    "We will use a dataset of general tweets (double-check where it's from) for training, and a dataset of hand-labeled customer feedback to airlines for validation\n"
   ]
  },
  {
   "cell_type": "code",
   "execution_count": 2,
   "metadata": {},
   "outputs": [],
   "source": [
    "# TODO delete before commiting \n",
    "\n",
    "consumer_key = \"JJhWt2xXOYhXTQPHxfaS2JXjV\"\n",
    "consumer_secret = \"2n9qfvVNpCHermKtRnV6rXzOy0ifMIsgVbpjYWO3LSKxScFW4l\"\n",
    "access_token = \"826992578075648002-U91wuQGF8EvGAeR4ZPGc2HsXxxPL6WF\"\n",
    "access_secret = \"lc4hmNdhEun7EFhxbNkSH8zF0CKsWoLgjUapAuYoyzUNG\"\n",
    "\n"
   ]
  },
  {
   "cell_type": "code",
   "execution_count": 15,
   "metadata": {},
   "outputs": [],
   "source": [
    "with open('keys.key', 'r') as outfile:\n",
    "    credentials = json.load(outfile)"
   ]
  },
  {
   "cell_type": "code",
   "execution_count": 23,
   "metadata": {
    "jupyter": {
     "outputs_hidden": false,
     "source_hidden": false
    },
    "nteract": {
     "transient": {
      "deleting": false
     }
    }
   },
   "outputs": [],
   "source": [
    "stream1 = twitter_listener.stream_listener(**credentials)"
   ]
  },
  {
   "cell_type": "code",
   "execution_count": 24,
   "metadata": {
    "jupyter": {
     "outputs_hidden": false,
     "source_hidden": false
    },
    "nteract": {
     "transient": {
      "deleting": false
     }
    }
   },
   "outputs": [
    {
     "name": "stdout",
     "output_type": "stream",
     "text": [
      "\n",
      "Initializing listener... \n",
      "\n",
      "Connecting listener to stream...\n",
      "\n",
      "\tStreaming now...\n",
      "\t0 tweets collected...\n",
      "\t1 tweets collected...\n",
      "\t2 tweets collected...\n",
      "\t3 tweets collected...\n",
      "\t4 tweets collected...\n",
      "\t5 tweets collected...\n",
      "\t6 tweets collected...\n",
      "\t7 tweets collected...\n",
      "\t8 tweets collected...\n",
      "\t9 tweets collected...\n",
      "\t10 tweets collected...\n",
      "\t11 tweets collected...\n",
      "\t12 tweets collected...\n",
      "\t13 tweets collected...\n",
      "\t14 tweets collected...\n",
      "\t15 tweets collected...\n",
      "\t16 tweets collected...\n",
      "\t17 tweets collected...\n",
      "\t18 tweets collected...\n",
      "\t19 tweets collected...\n",
      "\t20 tweets collected...\n",
      "\t21 tweets collected...\n",
      "\t22 tweets collected...\n",
      "\t23 tweets collected...\n",
      "\t24 tweets collected...\n",
      "\t25 tweets collected...\n",
      "\t26 tweets collected...\n",
      "\t27 tweets collected...\n",
      "\t28 tweets collected...\n",
      "\t29 tweets collected...\n",
      "\t30 tweets collected...\n",
      "\t31 tweets collected...\n",
      "\t32 tweets collected...\n",
      "\t33 tweets collected...\n",
      "\t34 tweets collected...\n",
      "\t35 tweets collected...\n",
      "\t36 tweets collected...\n",
      "\t37 tweets collected...\n",
      "\t38 tweets collected...\n",
      "\t39 tweets collected...\n",
      "\t40 tweets collected...\n",
      "\t41 tweets collected...\n",
      "\t42 tweets collected...\n",
      "\t43 tweets collected...\n",
      "\t44 tweets collected...\n",
      "\t45 tweets collected...\n",
      "\t46 tweets collected...\n",
      "\t47 tweets collected...\n",
      "\t48 tweets collected...\n",
      "\t49 tweets collected...\n",
      "\t50 tweets collected...\n",
      "\t51 tweets collected...\n",
      "\t52 tweets collected...\n",
      "\t53 tweets collected...\n",
      "\t54 tweets collected...\n",
      "\t55 tweets collected...\n",
      "\t56 tweets collected...\n",
      "\t57 tweets collected...\n",
      "\t58 tweets collected...\n",
      "\t59 tweets collected...\n",
      "\t60 tweets collected...\n",
      "\t61 tweets collected...\n",
      "\t62 tweets collected...\n",
      "\t63 tweets collected...\n",
      "\t64 tweets collected...\n",
      "\t65 tweets collected...\n",
      "\t66 tweets collected...\n",
      "\t67 tweets collected...\n",
      "\t68 tweets collected...\n",
      "\t69 tweets collected...\n",
      "\t70 tweets collected...\n",
      "\t71 tweets collected...\n",
      "\t72 tweets collected...\n",
      "\t73 tweets collected...\n",
      "\t74 tweets collected...\n",
      "\t75 tweets collected...\n",
      "\t76 tweets collected...\n",
      "\t77 tweets collected...\n",
      "\t78 tweets collected...\n",
      "\t79 tweets collected...\n",
      "\t80 tweets collected...\n",
      "\t81 tweets collected...\n",
      "\t82 tweets collected...\n",
      "\t83 tweets collected...\n",
      "\t84 tweets collected...\n",
      "\t85 tweets collected...\n",
      "\t86 tweets collected...\n",
      "\t87 tweets collected...\n",
      "\t88 tweets collected...\n",
      "\t89 tweets collected...\n",
      "\t90 tweets collected...\n",
      "\t91 tweets collected...\n",
      "\t92 tweets collected...\n",
      "\t93 tweets collected...\n",
      "\t94 tweets collected...\n",
      "\t95 tweets collected...\n",
      "\t96 tweets collected...\n",
      "\t97 tweets collected...\n",
      "\t98 tweets collected...\n",
      "\t99 tweets collected...\n",
      "Tweet Limit Reached: (100) .... Closing Stream \n"
     ]
    }
   ],
   "source": [
    "stream1.collect_from_stream(max_tweets=100,output_json_name=\"test.json\",console_interval=1,target_words=[\"trump\",\"impeachment\"])"
   ]
  },
  {
   "cell_type": "code",
   "execution_count": 6,
   "metadata": {
    "jupyter": {
     "outputs_hidden": false,
     "source_hidden": false
    },
    "nteract": {
     "transient": {
      "deleting": false
     }
    }
   },
   "outputs": [],
   "source": [
    "credentials = {}\n",
    "credentials['consumer_key'] = \"JJhWt2xXOYhXTQPHxfaS2JXjV\"\n",
    "credentials['consumer_secret'] = \"2n9qfvVNpCHermKtRnV6rXzOy0ifMIsgVbpjYWO3LSKxScFW4l\"\n",
    "credentials['access_token'] = \"826992578075648002-U91wuQGF8EvGAeR4ZPGc2HsXxxPL6WF\"\n",
    "credentials['access_secret'] = \"lc4hmNdhEun7EFhxbNkSH8zF0CKsWoLgjUapAuYoyzUNG\""
   ]
  },
  {
   "cell_type": "code",
   "execution_count": 12,
   "metadata": {},
   "outputs": [],
   "source": [
    "with open('keys.key', 'w+') as outfile:\n",
    "    json.dump(credentials, outfile)"
   ]
  },
  {
   "cell_type": "code",
   "execution_count": 21,
   "metadata": {},
   "outputs": [
    {
     "ename": "TypeError",
     "evalue": "str() takes at most 3 arguments (4 given)",
     "output_type": "error",
     "traceback": [
      "\u001b[1;31m---------------------------------------------------------------------------\u001b[0m",
      "\u001b[1;31mTypeError\u001b[0m                                 Traceback (most recent call last)",
      "\u001b[1;32m<ipython-input-21-7db36c2a3c36>\u001b[0m in \u001b[0;36m<module>\u001b[1;34m\u001b[0m\n\u001b[1;32m----> 1\u001b[1;33m \u001b[0mprint\u001b[0m\u001b[1;33m(\u001b[0m\u001b[0mstr\u001b[0m\u001b[1;33m(\u001b[0m\u001b[1;33m*\u001b[0m\u001b[0mcredentials\u001b[0m\u001b[1;33m)\u001b[0m\u001b[1;33m)\u001b[0m\u001b[1;33m\u001b[0m\u001b[1;33m\u001b[0m\u001b[0m\n\u001b[0m",
      "\u001b[1;31mTypeError\u001b[0m: str() takes at most 3 arguments (4 given)"
     ]
    }
   ],
   "source": [
    "print(str(*credentials))"
   ]
  },
  {
   "cell_type": "code",
   "execution_count": 26,
   "metadata": {},
   "outputs": [],
   "source": [
    "?stream1.collect_from_stream"
   ]
  },
  {
   "cell_type": "code",
   "execution_count": null,
   "metadata": {},
   "outputs": [],
   "source": []
  }
 ],
 "metadata": {
  "kernelspec": {
   "display_name": "Python 3",
   "language": "python",
   "name": "python3"
  },
  "language_info": {
   "codemirror_mode": {
    "name": "ipython",
    "version": 3
   },
   "file_extension": ".py",
   "mimetype": "text/x-python",
   "name": "python",
   "nbconvert_exporter": "python",
   "pygments_lexer": "ipython3",
   "version": "3.7.4"
  },
  "nteract": {
   "version": "0.21.0"
  }
 },
 "nbformat": 4,
 "nbformat_minor": 2
}
